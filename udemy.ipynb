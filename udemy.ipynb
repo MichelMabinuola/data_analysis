{
 "cells": [
  {
   "cell_type": "code",
   "execution_count": 1,
   "metadata": {},
   "outputs": [],
   "source": [
    "import pandas as pd\n",
    "import numpy as np\n",
    "from matplotlib import pyplot as plt\n",
    "import seaborn as sns\n",
    "from scipy import stats as stat\n",
    "import math"
   ]
  },
  {
   "cell_type": "code",
   "execution_count": 2,
   "metadata": {},
   "outputs": [],
   "source": [
    "udemy_course = pd.read_csv('udemy_courses.csv')"
   ]
  },
  {
   "cell_type": "code",
   "execution_count": 3,
   "metadata": {},
   "outputs": [
    {
     "name": "stdout",
     "output_type": "stream",
     "text": [
      "<class 'pandas.core.frame.DataFrame'>\n",
      "RangeIndex: 3683 entries, 0 to 3682\n",
      "Data columns (total 12 columns):\n",
      "course_id              3683 non-null int64\n",
      "course_title           3683 non-null object\n",
      "url                    3683 non-null object\n",
      "is_paid                3683 non-null object\n",
      "price                  3683 non-null object\n",
      "num_subscribers        3683 non-null int64\n",
      "num_reviews            3683 non-null int64\n",
      "num_lectures           3683 non-null int64\n",
      "level                  3683 non-null object\n",
      "content_duration       3683 non-null object\n",
      "published_timestamp    3683 non-null object\n",
      "subject                3683 non-null object\n",
      "dtypes: int64(4), object(8)\n",
      "memory usage: 345.4+ KB\n"
     ]
    }
   ],
   "source": [
    "udemy_course.info()"
   ]
  },
  {
   "cell_type": "code",
   "execution_count": 47,
   "metadata": {},
   "outputs": [
    {
     "data": {
      "text/html": [
       "<div>\n",
       "<style scoped>\n",
       "    .dataframe tbody tr th:only-of-type {\n",
       "        vertical-align: middle;\n",
       "    }\n",
       "\n",
       "    .dataframe tbody tr th {\n",
       "        vertical-align: top;\n",
       "    }\n",
       "\n",
       "    .dataframe thead th {\n",
       "        text-align: right;\n",
       "    }\n",
       "</style>\n",
       "<table border=\"1\" class=\"dataframe\">\n",
       "  <thead>\n",
       "    <tr style=\"text-align: right;\">\n",
       "      <th></th>\n",
       "      <th>course_id</th>\n",
       "      <th>course_title</th>\n",
       "      <th>url</th>\n",
       "      <th>is_paid</th>\n",
       "      <th>price</th>\n",
       "      <th>num_subscribers</th>\n",
       "      <th>num_reviews</th>\n",
       "      <th>num_lectures</th>\n",
       "      <th>level</th>\n",
       "      <th>content_duration</th>\n",
       "      <th>published_timestamp</th>\n",
       "      <th>subject</th>\n",
       "    </tr>\n",
       "  </thead>\n",
       "  <tbody>\n",
       "    <tr>\n",
       "      <td>0</td>\n",
       "      <td>1070968</td>\n",
       "      <td>Ultimate Investment Banking Course</td>\n",
       "      <td>https://www.udemy.com/ultimate-investment-bank...</td>\n",
       "      <td>True</td>\n",
       "      <td>200</td>\n",
       "      <td>2147</td>\n",
       "      <td>23</td>\n",
       "      <td>51</td>\n",
       "      <td>All Levels</td>\n",
       "      <td>1.5 hours</td>\n",
       "      <td>2017-01-18T20:58:58Z</td>\n",
       "      <td>Business Finance</td>\n",
       "    </tr>\n",
       "    <tr>\n",
       "      <td>1</td>\n",
       "      <td>1113822</td>\n",
       "      <td>Complete GST Course &amp; Certification - Grow You...</td>\n",
       "      <td>https://www.udemy.com/goods-and-services-tax/</td>\n",
       "      <td>True</td>\n",
       "      <td>75</td>\n",
       "      <td>2792</td>\n",
       "      <td>923</td>\n",
       "      <td>274</td>\n",
       "      <td>All Levels</td>\n",
       "      <td>39 hours</td>\n",
       "      <td>2017-03-09T16:34:20Z</td>\n",
       "      <td>Business Finance</td>\n",
       "    </tr>\n",
       "    <tr>\n",
       "      <td>2</td>\n",
       "      <td>1006314</td>\n",
       "      <td>Financial Modeling for Business Analysts and C...</td>\n",
       "      <td>https://www.udemy.com/financial-modeling-for-b...</td>\n",
       "      <td>True</td>\n",
       "      <td>45</td>\n",
       "      <td>2174</td>\n",
       "      <td>74</td>\n",
       "      <td>51</td>\n",
       "      <td>Intermediate Level</td>\n",
       "      <td>2.5 hours</td>\n",
       "      <td>2016-12-19T19:26:30Z</td>\n",
       "      <td>Business Finance</td>\n",
       "    </tr>\n",
       "    <tr>\n",
       "      <td>3</td>\n",
       "      <td>1210588</td>\n",
       "      <td>Beginner to Pro - Financial Analysis in Excel ...</td>\n",
       "      <td>https://www.udemy.com/complete-excel-finance-c...</td>\n",
       "      <td>True</td>\n",
       "      <td>95</td>\n",
       "      <td>2451</td>\n",
       "      <td>11</td>\n",
       "      <td>36</td>\n",
       "      <td>All Levels</td>\n",
       "      <td>3 hours</td>\n",
       "      <td>2017-05-30T20:07:24Z</td>\n",
       "      <td>Business Finance</td>\n",
       "    </tr>\n",
       "    <tr>\n",
       "      <td>4</td>\n",
       "      <td>1011058</td>\n",
       "      <td>How To Maximize Your Profits Trading Options</td>\n",
       "      <td>https://www.udemy.com/how-to-maximize-your-pro...</td>\n",
       "      <td>True</td>\n",
       "      <td>200</td>\n",
       "      <td>1276</td>\n",
       "      <td>45</td>\n",
       "      <td>26</td>\n",
       "      <td>Intermediate Level</td>\n",
       "      <td>2 hours</td>\n",
       "      <td>2016-12-13T14:57:18Z</td>\n",
       "      <td>Business Finance</td>\n",
       "    </tr>\n",
       "  </tbody>\n",
       "</table>\n",
       "</div>"
      ],
      "text/plain": [
       "   course_id                                       course_title  \\\n",
       "0    1070968                 Ultimate Investment Banking Course   \n",
       "1    1113822  Complete GST Course & Certification - Grow You...   \n",
       "2    1006314  Financial Modeling for Business Analysts and C...   \n",
       "3    1210588  Beginner to Pro - Financial Analysis in Excel ...   \n",
       "4    1011058       How To Maximize Your Profits Trading Options   \n",
       "\n",
       "                                                 url is_paid price  \\\n",
       "0  https://www.udemy.com/ultimate-investment-bank...    True   200   \n",
       "1      https://www.udemy.com/goods-and-services-tax/    True    75   \n",
       "2  https://www.udemy.com/financial-modeling-for-b...    True    45   \n",
       "3  https://www.udemy.com/complete-excel-finance-c...    True    95   \n",
       "4  https://www.udemy.com/how-to-maximize-your-pro...    True   200   \n",
       "\n",
       "   num_subscribers  num_reviews  num_lectures               level  \\\n",
       "0             2147           23            51          All Levels   \n",
       "1             2792          923           274          All Levels   \n",
       "2             2174           74            51  Intermediate Level   \n",
       "3             2451           11            36          All Levels   \n",
       "4             1276           45            26  Intermediate Level   \n",
       "\n",
       "  content_duration   published_timestamp           subject  \n",
       "0        1.5 hours  2017-01-18T20:58:58Z  Business Finance  \n",
       "1         39 hours  2017-03-09T16:34:20Z  Business Finance  \n",
       "2        2.5 hours  2016-12-19T19:26:30Z  Business Finance  \n",
       "3          3 hours  2017-05-30T20:07:24Z  Business Finance  \n",
       "4          2 hours  2016-12-13T14:57:18Z  Business Finance  "
      ]
     },
     "execution_count": 47,
     "metadata": {},
     "output_type": "execute_result"
    }
   ],
   "source": [
    "udemy_course.head()"
   ]
  },
  {
   "cell_type": "code",
   "execution_count": 51,
   "metadata": {},
   "outputs": [
    {
     "data": {
      "text/html": [
       "<div>\n",
       "<style scoped>\n",
       "    .dataframe tbody tr th:only-of-type {\n",
       "        vertical-align: middle;\n",
       "    }\n",
       "\n",
       "    .dataframe tbody tr th {\n",
       "        vertical-align: top;\n",
       "    }\n",
       "\n",
       "    .dataframe thead th {\n",
       "        text-align: right;\n",
       "    }\n",
       "</style>\n",
       "<table border=\"1\" class=\"dataframe\">\n",
       "  <thead>\n",
       "    <tr style=\"text-align: right;\">\n",
       "      <th></th>\n",
       "      <th>course_id</th>\n",
       "      <th>course_title</th>\n",
       "      <th>url</th>\n",
       "      <th>is_paid</th>\n",
       "      <th>price</th>\n",
       "      <th>num_subscribers</th>\n",
       "      <th>num_reviews</th>\n",
       "      <th>num_lectures</th>\n",
       "      <th>level</th>\n",
       "      <th>content_duration</th>\n",
       "      <th>published_timestamp</th>\n",
       "      <th>subject</th>\n",
       "    </tr>\n",
       "  </thead>\n",
       "  <tbody>\n",
       "  </tbody>\n",
       "</table>\n",
       "</div>"
      ],
      "text/plain": [
       "Empty DataFrame\n",
       "Columns: [course_id, course_title, url, is_paid, price, num_subscribers, num_reviews, num_lectures, level, content_duration, published_timestamp, subject]\n",
       "Index: []"
      ]
     },
     "execution_count": 51,
     "metadata": {},
     "output_type": "execute_result"
    }
   ],
   "source": [
    "nan_df = udemy_course[udemy_course.isna().any(axis=1)]\n",
    "nan_df"
   ]
  },
  {
   "cell_type": "code",
   "execution_count": 56,
   "metadata": {},
   "outputs": [
    {
     "data": {
      "text/plain": [
       "array(['200', '75', '45', '95', '150', '65', '195', '30', '20', '50',\n",
       "       '175', '140', '115', '190', '125', '60', '145', '105', '155',\n",
       "       '185', '180', '120', '25', '160', '40', 'Free', '100', '90', '35',\n",
       "       '80', '70', '55', '165', '130', '85', '170', '110', '135', 'TRUE'],\n",
       "      dtype=object)"
      ]
     },
     "execution_count": 56,
     "metadata": {},
     "output_type": "execute_result"
    }
   ],
   "source": [
    "unique = udemy_course.price.unique()\n",
    "unique"
   ]
  },
  {
   "cell_type": "code",
   "execution_count": 77,
   "metadata": {},
   "outputs": [
    {
     "data": {
      "text/plain": [
       "course_id                                                          41295\n",
       "course_title                        Learn HTML5 Programming From Scratch\n",
       "url                    https://www.udemy.com/learn-html5-programming-...\n",
       "is_paid                                                            False\n",
       "price                                                               Free\n",
       "num_subscribers                                                   268923\n",
       "num_reviews                                                         8629\n",
       "num_lectures                                                          45\n",
       "level                                                         All Levels\n",
       "content_duration                                              10.5 hours\n",
       "published_timestamp                                 2013-02-14T07:03:41Z\n",
       "subject                                                  Web Development\n",
       "Name: 201, dtype: object"
      ]
     },
     "execution_count": 77,
     "metadata": {},
     "output_type": "execute_result"
    }
   ],
   "source": [
    "free_courses = udemy_course[udemy_course.price == 'Free'].reset_index(drop=True)\n",
    "max_subscribers = free_courses.loc[free_courses['num_subscribers'].idxmax()]\n",
    "max_subscribers"
   ]
  },
  {
   "cell_type": "code",
   "execution_count": 78,
   "metadata": {},
   "outputs": [
    {
     "data": {
      "text/plain": [
       "course_id                                                  968026\n",
       "course_title               Learn to Play Tabla - The Indian drums\n",
       "url                    https://www.udemy.com/learn-to-play-tabla/\n",
       "is_paid                                                     FALSE\n",
       "price                                                        Free\n",
       "num_subscribers                                                 1\n",
       "num_reviews                                                     0\n",
       "num_lectures                                                   20\n",
       "level                                              Beginner Level\n",
       "content_duration                                        1.5 hours\n",
       "published_timestamp                          2017-07-04T21:04:11Z\n",
       "subject                                       Musical Instruments\n",
       "Name: 174, dtype: object"
      ]
     },
     "execution_count": 78,
     "metadata": {},
     "output_type": "execute_result"
    }
   ],
   "source": [
    "min_subscribers = free_courses.loc[free_courses['num_subscribers'].idxmin()]\n",
    "min_subscribers"
   ]
  },
  {
   "cell_type": "code",
   "execution_count": 82,
   "metadata": {},
   "outputs": [
    {
     "name": "stdout",
     "output_type": "stream",
     "text": [
      "Total free subscribers 3575525 \n"
     ]
    }
   ],
   "source": [
    "sum_of_free_subscribers = np.sum(np.asarray(free_courses['num_subscribers']))\n",
    "print('Total free subscribers {} '.format(sum_of_free_subscribers))"
   ]
  },
  {
   "cell_type": "code",
   "execution_count": null,
   "metadata": {},
   "outputs": [],
   "source": []
  },
  {
   "cell_type": "code",
   "execution_count": null,
   "metadata": {},
   "outputs": [],
   "source": []
  },
  {
   "cell_type": "code",
   "execution_count": null,
   "metadata": {},
   "outputs": [],
   "source": []
  },
  {
   "cell_type": "markdown",
   "metadata": {},
   "source": [
    "# EXPLORATORY DATA ANALYSIS"
   ]
  },
  {
   "cell_type": "code",
   "execution_count": 39,
   "metadata": {},
   "outputs": [
    {
     "data": {
      "image/png": "[encoded data removed]",
      "text/plain": [
       "<Figure size 720x432 with 1 Axes>"
      ]
     },
     "metadata": {
      "needs_background": "light"
     },
     "output_type": "display_data"
    }
   ],
   "source": [
    "unique = udemy_course.is_paid.unique()\n",
    "\n",
    "ax, fig = plt.subplots(figsize=(10,6))\n",
    "ax = sns.countplot(data=udemy_course, x='is_paid')"
   ]
  },
  {
   "cell_type": "markdown",
   "metadata": {},
   "source": [
    "# CONFIDENCE INTERVAL"
   ]
  },
  {
   "cell_type": "markdown",
   "metadata": {},
   "source": [
    "<P> LETS MAKE A STATISTICAL INFERENCE BY COMPUTING CONFIDENCE INTERVAL OF THE NUMBER OF SUBSCRIBERS.\n",
    "LET US ASSUME WE ARE GETTING 25% OF SAMPLE FROM THE POPULATION OF THE LENTH OF SUBSCRIBERS TO GET THE AN ESTIMATE OF\n",
    "THE TOTAL MEAN NUMBER OF SUBSCRIBERS \n",
    "</p>"
   ]
  },
  {
   "cell_type": "code",
   "execution_count": 5,
   "metadata": {},
   "outputs": [],
   "source": [
    "#getting all the total number of subscribers\n",
    "subscribers = udemy_course['num_subscribers']\n",
    "\n",
    "#lets convert to array so we can use the numpy functions \n",
    "subscribers_array = np.array(subscribers)\n",
    "total_population = np.sum(subscribers_array)\n",
    "#lets get random sample data from the subscribers array n number of times\n",
    "n_trials = 100\n",
    "#lets specify the number of sample size we want to calculate the mean. \n",
    "sample_size = int(.25 * len(subscribers_array))"
   ]
  },
  {
   "cell_type": "code",
   "execution_count": 6,
   "metadata": {},
   "outputs": [],
   "source": [
    "# draw 100 number of samples from the subscribers_array with no replacement, each of size sample_size\n",
    "samples = np.array([np.random.choice(subscribers_array, sample_size, replace=False) \n",
    "                    for i in range(n_trials)])"
   ]
  },
  {
   "cell_type": "code",
   "execution_count": 8,
   "metadata": {},
   "outputs": [
    {
     "name": "stdout",
     "output_type": "stream",
     "text": [
      "[3311.98804348 3315.60543478 3179.1173913  3216.90326087 3161.56086957\n",
      " 3073.53043478 3022.14782609 3433.36304348 3146.41521739 3073.36956522\n",
      " 3436.70652174 3199.74347826 3147.65869565 3569.55652174 3454.90652174\n",
      " 2670.77173913 3085.14347826 3052.6423913  3045.825      3412.69673913\n",
      " 2654.23586957 3754.55217391 2989.30217391 3017.24347826 3055.31521739\n",
      " 3359.09565217 3250.1826087  3139.07391304 3197.85978261 3842.22173913\n",
      " 3242.48152174 3015.82391304 3072.00217391 3277.75978261 3440.79021739\n",
      " 2963.6173913  3610.42717391 2775.58369565 3354.1826087  3469.03152174\n",
      " 2906.3076087  3093.77065217 3220.51304348 3097.14347826 3263.63913043\n",
      " 3387.71956522 2966.42282609 3885.55434783 2765.09130435 2920.43152174\n",
      " 3020.9673913  3675.50869565 3466.12391304 2921.64456522 3127.42717391\n",
      " 3143.29891304 3032.80434783 3116.06304348 2922.07934783 2999.67826087\n",
      " 2973.31630435 3210.10217391 3061.99673913 3509.49673913 3464.61304348\n",
      " 3627.91521739 3307.83369565 2883.66521739 3227.60108696 3835.9826087\n",
      " 3201.0173913  3008.40326087 3001.53586957 3021.5576087  2977.17065217\n",
      " 2771.41521739 3093.79673913 3188.8076087  3447.8173913  2616.475\n",
      " 3691.86195652 3014.09782609 3212.91086957 2901.06413043 3063.64130435\n",
      " 2787.44891304 3197.39891304 3328.67934783 3327.62934783 3597.86521739\n",
      " 3416.07608696 3614.56195652 3245.4076087  2833.20326087 3166.36630435\n",
      " 3700.12173913 3215.28369565 3163.01956522 3093.525      3253.25      ]\n",
      "standard deviation error 313.0\n"
     ]
    },
    {
     "data": {
      "image/png": "[encoded data removed]",
      "text/plain": [
       "<Figure size 648x432 with 1 Axes>"
      ]
     },
     "metadata": {
      "needs_background": "light"
     },
     "output_type": "display_data"
    }
   ],
   "source": [
    "#let us get the means of all the rows of the samples\n",
    "np.random.seed(sample_size)\n",
    "population_mean = np.mean(subscribers_array)\n",
    "population_std = np.std(subscribers_array)\n",
    "samples_mean = np.mean(samples, axis=1)\n",
    "samples_std = np.std(samples, axis=1)\n",
    "#we will construct a graph to show the normal curve displaying the loaction of the means\n",
    "ax,fig=plt.subplots(figsize=(9,6))\n",
    "ax = sns.distplot(samples_mean, kde=True, bins=10, color='blue')\n",
    "plt.axvline(population_mean, linestyle='solid', color='r')\n",
    "plt.title('Samples mean')\n",
    "#sigma error\n",
    "std_error = population_std / math.sqrt(sample_size)\n",
    "print('standard deviation error {}'.format(round(std_error), 2))\n"
   ]
  },
  {
   "cell_type": "markdown",
   "metadata": {},
   "source": [
    "<p>\n",
    "    Let's create several confidence intervals from the samples and plot them to get a better sense of what it means to \"capture\" the true mean. We will be finding 95% confidence interval\n",
    "</p>"
   ]
  },
  {
   "cell_type": "code",
   "execution_count": 13,
   "metadata": {},
   "outputs": [
    {
     "name": "stdout",
     "output_type": "stream",
     "text": [
      "z-critical value\n",
      "1.6448536269514722\n",
      "The overall sample mean 3196.765565217391 \n",
      "\n",
      "\n",
      "The estimated margin of error is estimated as 515.011731406572\n",
      "\n",
      "\n",
      "The confidence of interval of the estimated population mean \n",
      "[2681.7538338108193, 3711.777296623963]\n"
     ]
    }
   ],
   "source": [
    "#lets assume we know the sigma for the population \n",
    "population_sigma = np.std(subscribers_array)\n",
    "confidence_interval = 0.95\n",
    "#let us sum the total population mean to get an over all mean to get an estimation of the pop mean\n",
    "over_all_estimate_mean = np.mean(samples_mean)\n",
    "#lets get the inversere\n",
    "z= stat.norm.ppf(confidence_interval)\n",
    "#using the formula of interval estimate xmean + or - (z∗σn‾√)margin of error. We will assume the x_mean of the samples\n",
    "print('z-critical value')\n",
    "print(z)\n",
    "#calculate for margin of error\n",
    "margin_of_error = z * (population_sigma / math.sqrt(sample_size))\n",
    "#confidence interval of the lower and upper section of the sample means\n",
    "confidence_interval = [over_all_estimate_mean-margin_of_error,over_all_estimate_mean+margin_of_error] \n",
    "print('The overall sample mean {} '.format(over_all_estimate_mean))\n",
    "print('\\n')\n",
    "print('The estimated margin of error is estimated as {}'.format(margin_of_error))\n",
    "print('\\n')\n",
    "print('The confidence of interval of the estimated population mean ')\n",
    "print(confidence_interval)"
   ]
  },
  {
   "cell_type": "code",
   "execution_count": null,
   "metadata": {},
   "outputs": [],
   "source": []
  },
  {
   "cell_type": "markdown",
   "metadata": {},
   "source": [
    "If you don't know the standard deviation of the population, you have to use the standard deviation of your sample as a stand in when creating confidence intervals. Since the sample standard deviation may not match the population parameter the interval will have more error when you don't know the population standard deviation. To account for this error, we use what's known as a t-critical value instead of the z-critical value. The t-critical value is drawn from what's known as a t-distribution--a distribution that closely resembles the normal distribution but that gets wider and wider as the sample size falls. The t-distribution is available in scipy.stats with the nickname \"t\" so we can get t-critical values with stats.t.ppf().\n",
    "\n",
    "Let's take a new, smaller sample and then create a confidence interval without the population standard deviation, using the t-distribution:"
   ]
  },
  {
   "cell_type": "code",
   "execution_count": 10,
   "metadata": {},
   "outputs": [],
   "source": [
    "#t-critical is gotten from looking at the sample size -1\n",
    "# d_of_freedom = sample_size - 1\n",
    "# t_critical = stat.t.ppf(0.95, d_of_freedom)\n",
    "# print('T-critical value:')\n",
    "# print(t_critical)\n",
    "# t_m_of_error = t_critical * (samples_std / math.sqrt(sample_size))\n",
    "# t_confidence_interval = [population_mean - t_m_of_error, population_mean+t_m_of_error]\n",
    "# t_confidence_interval\n",
    "#just assumption"
   ]
  },
  {
   "cell_type": "markdown",
   "metadata": {},
   "source": [
    "# PROPORTION OF PAID USERS"
   ]
  },
  {
   "cell_type": "code",
   "execution_count": 16,
   "metadata": {},
   "outputs": [
    {
     "name": "stdout",
     "output_type": "stream",
     "text": [
      "the proportion of paid users is:\n",
      "0.6499069906725393\n"
     ]
    }
   ],
   "source": [
    "paid_subscribers = udemy_course.loc[udemy_course['is_paid'] == 'True']['num_subscribers']\n",
    "paid_subscribers_array = np.array(paid_subscribers)\n",
    "proportion_of_paid = np.sum(paid_subscribers_array) / total_population\n",
    "print('the proportion of paid users is:')\n",
    "print(proportion_of_paid)"
   ]
  },
  {
   "cell_type": "markdown",
   "metadata": {},
   "source": [
    "# CONFIDENCE INTERVAL OF PROPORTION\n",
    "<p>\n",
    "    LET US IMAGINE, WE ARE SAMPLING FROM A LARGE POPUPLATION AND WE WANT TO GET AN APPROXIMATE\n",
    "    MEAN ESTIMATE OF THE PAID USERS.\n",
    "</p>"
   ]
  },
  {
   "cell_type": "code",
   "execution_count": 17,
   "metadata": {},
   "outputs": [
    {
     "data": {
      "text/plain": [
       "array([0.00039905, 0.00036659, 0.00036453, 0.00039907, 0.00033562,\n",
       "       0.00035879, 0.00039033, 0.00035047, 0.00033587, 0.00038103,\n",
       "       0.00036136, 0.00032504, 0.0003647 , 0.00036779, 0.00041078,\n",
       "       0.00040061, 0.00039495, 0.00035973, 0.00039388, 0.0004055 ,\n",
       "       0.00037126, 0.00032507, 0.00037011, 0.00034707, 0.00038768,\n",
       "       0.00042209, 0.00034716, 0.00034388, 0.00035472, 0.00040918,\n",
       "       0.00036944, 0.00038487, 0.00037114, 0.00035147, 0.00035252,\n",
       "       0.00039054, 0.00037407, 0.00034344, 0.00035299, 0.0003454 ,\n",
       "       0.0003627 , 0.00033552, 0.00036058, 0.00036344, 0.0003618 ,\n",
       "       0.00039489, 0.00035648, 0.00039478, 0.00037631, 0.00041547,\n",
       "       0.00034242, 0.00037621, 0.00035497, 0.00034149, 0.00033062,\n",
       "       0.00039019, 0.00037705, 0.0003665 , 0.00041142, 0.00034959,\n",
       "       0.00037824, 0.00036336, 0.00034281, 0.00036301, 0.00037744,\n",
       "       0.00038978, 0.00036595, 0.00039572, 0.00036777, 0.00037598,\n",
       "       0.00040107, 0.00041734, 0.00036801, 0.00037344, 0.00034472,\n",
       "       0.00038392, 0.00040533, 0.0003835 , 0.00035539, 0.0003586 ,\n",
       "       0.00034684, 0.00032008, 0.00034959, 0.00032798, 0.00039317,\n",
       "       0.00033173, 0.00036265, 0.00033831, 0.00036159, 0.00038904,\n",
       "       0.00034412, 0.00035989, 0.00038843, 0.00035641, 0.00039557,\n",
       "       0.00031934, 0.00036504, 0.00038904, 0.00037135, 0.00036495])"
      ]
     },
     "execution_count": 17,
     "metadata": {},
     "output_type": "execute_result"
    }
   ],
   "source": [
    "np.random.seed(sample_size)\n",
    "# get the percentage proportion size from each sample from all the trials\n",
    "proportion_samples = np.array([np.random.choice((paid_subscribers_array/np.sum(paid_subscribers_array)), sample_size, \n",
    "                                                replace=False) \n",
    "                               for i in range(n_trials)])\n",
    "#get the mean values of all the sample arrays\n",
    "proportion_samples_mean = np.mean(proportion_samples, axis=1)\n",
    "proportion_samples_mean"
   ]
  },
  {
   "cell_type": "code",
   "execution_count": 19,
   "metadata": {},
   "outputs": [
    {
     "data": {
      "text/plain": [
       "Text(0.5, 1.0, 'proportion of paid users')"
      ]
     },
     "execution_count": 19,
     "metadata": {},
     "output_type": "execute_result"
    },
    {
     "data": {
      "image/png": "[encoded data removed]",
      "text/plain": [
       "<Figure size 648x432 with 1 Axes>"
      ]
     },
     "metadata": {
      "needs_background": "light"
     },
     "output_type": "display_data"
    }
   ],
   "source": [
    "# lets construct mean proport graph to get a better visual representation\n",
    "ax2, fig = plt.subplots(figsize=(9,6))\n",
    "ax2 = sns.distplot(proportion_samples_mean, kde=True, bins=10, color='red')\n",
    "plt.title('proportion of paid users')"
   ]
  },
  {
   "cell_type": "code",
   "execution_count": 20,
   "metadata": {},
   "outputs": [],
   "source": [
    "over_all_sample_proportion = np.mean(proportion_samples_mean)"
   ]
  },
  {
   "cell_type": "code",
   "execution_count": null,
   "metadata": {},
   "outputs": [],
   "source": []
  },
  {
   "cell_type": "code",
   "execution_count": 38,
   "metadata": {},
   "outputs": [
    {
     "name": "stdout",
     "output_type": "stream",
     "text": [
      "==============================\n",
      "proportion mean estimate \n",
      "\n",
      "[-0.0006722238226472593, 0.0014087984194477033]\n"
     ]
    }
   ],
   "source": [
    "#lets get the 95% confidence interval\n",
    "proportion_sub = over_all_sample_proportion*(1-over_all_sample_proportion)\n",
    "prop_divide = proportion_sub / sample_size\n",
    "proportion_me = z * math.sqrt(prop_divide)\n",
    "\n",
    "\n",
    "m_e_proportion = [over_all_sample_proportion-proportion_me, over_all_sample_proportion+proportion_me]\n",
    "\n",
    "\n",
    "print('==============================')\n",
    "print('proportion mean estimate ' + '\\n')\n",
    "print(m_e_proportion)"
   ]
  }
 ],
 "metadata": {
  "kernelspec": {
   "display_name": "Python 3",
   "language": "python",
   "name": "python3"
  },
  "language_info": {
   "codemirror_mode": {
    "name": "ipython",
    "version": 3
   },
   "file_extension": ".py",
   "mimetype": "text/x-python",
   "name": "python",
   "nbconvert_exporter": "python",
   "pygments_lexer": "ipython3",
   "version": "3.7.4"
  }
 },
 "nbformat": 4,
 "nbformat_minor": 2
}
